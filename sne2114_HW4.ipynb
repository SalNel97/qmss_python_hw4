{
  "nbformat": 4,
  "nbformat_minor": 0,
  "metadata": {
    "colab": {
      "name": "sne2114_HW4.ipynb",
      "provenance": [],
      "collapsed_sections": [
        "eatmIaK8kKmB",
        "xlRQ0DaS1PDK",
        "rJMb9WhC6F05"
      ],
      "include_colab_link": true
    },
    "kernelspec": {
      "name": "python3",
      "display_name": "Python 3"
    },
    "language_info": {
      "name": "python"
    }
  },
  "cells": [
    {
      "cell_type": "markdown",
      "metadata": {
        "id": "view-in-github",
        "colab_type": "text"
      },
      "source": [
        "<a href=\"https://colab.research.google.com/github/SalNel97/qmss_python_hw4/blob/main/sne2114_HW4.ipynb\" target=\"_parent\"><img src=\"https://colab.research.google.com/assets/colab-badge.svg\" alt=\"Open In Colab\"/></a>"
      ]
    },
    {
      "cell_type": "markdown",
      "metadata": {
        "id": "_jIXJNuMHFmH"
      },
      "source": [
        "**QMSS S5073**\n",
        "# ***Homework 4***\n",
        "**Salah El-Sadek (sne2114)**\n",
        "\n",
        "---"
      ]
    },
    {
      "cell_type": "markdown",
      "metadata": {
        "id": "eXP8FbwgqNOo"
      },
      "source": [
        "##**Part 1**"
      ]
    },
    {
      "cell_type": "code",
      "metadata": {
        "id": "vIo-vjJJFT3Y"
      },
      "source": [
        "# !pip install tensorflow"
      ],
      "execution_count": 1,
      "outputs": []
    },
    {
      "cell_type": "code",
      "metadata": {
        "id": "eve6b5GUjFMZ"
      },
      "source": [
        "%matplotlib inline\n",
        "\n",
        "import warnings\n",
        "warnings.simplefilter(\"ignore\", UserWarning)\n",
        "\n",
        "# Importing relevant libraries\n",
        "import numpy as np\n",
        "import scipy as sp\n",
        "import pandas as pd\n",
        "import matplotlib as mpl\n",
        "import matplotlib.pyplot as plt\n",
        "import seaborn as sns\n",
        "from sklearn.pipeline import make_pipeline\n",
        "\n",
        "from sklearn.feature_extraction.text import CountVectorizer\n",
        "from sklearn.feature_extraction.text import TfidfVectorizer\n",
        "from sklearn.feature_extraction.text import ENGLISH_STOP_WORDS\n",
        "\n",
        "from sklearn.pipeline import Pipeline\n",
        "\n",
        "from sklearn.linear_model import LogisticRegression\n",
        "from sklearn.model_selection import train_test_split, GridSearchCV\n",
        "from sklearn.model_selection import cross_val_score\n",
        "from sklearn.metrics import f1_score\n",
        "\n",
        "from sklearn.impute import SimpleImputer\n",
        "from sklearn.preprocessing import StandardScaler, OneHotEncoder\n",
        "from sklearn.compose import ColumnTransformer\n",
        "import tensorflow.keras as keras\n",
        "from tensorflow.keras.models import Sequential\n",
        "from tensorflow.keras.layers import Dense, Dropout, Activation\n",
        "from tensorflow.keras.optimizers import SGD\n",
        "from tensorflow.keras.wrappers.scikit_learn import KerasClassifier\n",
        "\n",
        "#import tensorflow\n",
        "#tensorflow.random.set_seed(seed)\n",
        "\n",
        "np.random.seed(2)"
      ],
      "execution_count": 2,
      "outputs": []
    },
    {
      "cell_type": "markdown",
      "metadata": {
        "id": "Wrqb6f4Fk7gs"
      },
      "source": [
        "*In part one of the homework, you will solve a text classification task.*\n",
        "\n",
        "*You can download the following data-sets from the HW data folder on the course website:*\n",
        "\n",
        "*HW4_Text_train_data.csv and HW4_text_test_data.csv*\n",
        "\n",
        "*The data consists of Women’s fashion online shop reviews, consisting of a review\n",
        "text, and whether the review author would recommend the product.*\n",
        "\n",
        "*We are trying to determine whether a reviewer will recommend a product or not based on each review.*\n",
        "\n",
        "*In a real application this might allow us to find out what is good or bad about certain products or to feature more typical reviews (like a very critical and a very positive one).*"
      ]
    },
    {
      "cell_type": "code",
      "metadata": {
        "colab": {
          "base_uri": "https://localhost:8080/",
          "height": 434
        },
        "id": "9INyPHQtlCpW",
        "outputId": "de187599-0f55-46bc-86ba-c99ef089af9b"
      },
      "source": [
        "#Reading in data\n",
        "from google.colab import drive\n",
        "drive.mount('/content/drive')\n",
        "\n",
        "train_df = pd.read_csv('/content/drive/MyDrive/Python/Homeworks/HW4_Text_train_data.csv')\n",
        "test_df = pd.read_csv('/content/drive/MyDrive/Python/Homeworks/HW4_Text_test_data.csv')\n",
        "\n",
        "train_df"
      ],
      "execution_count": 3,
      "outputs": [
        {
          "output_type": "stream",
          "text": [
            "Drive already mounted at /content/drive; to attempt to forcibly remount, call drive.mount(\"/content/drive\", force_remount=True).\n"
          ],
          "name": "stdout"
        },
        {
          "output_type": "execute_result",
          "data": {
            "text/html": [
              "<div>\n",
              "<style scoped>\n",
              "    .dataframe tbody tr th:only-of-type {\n",
              "        vertical-align: middle;\n",
              "    }\n",
              "\n",
              "    .dataframe tbody tr th {\n",
              "        vertical-align: top;\n",
              "    }\n",
              "\n",
              "    .dataframe thead th {\n",
              "        text-align: right;\n",
              "    }\n",
              "</style>\n",
              "<table border=\"1\" class=\"dataframe\">\n",
              "  <thead>\n",
              "    <tr style=\"text-align: right;\">\n",
              "      <th></th>\n",
              "      <th>Review</th>\n",
              "      <th>Recommended</th>\n",
              "    </tr>\n",
              "  </thead>\n",
              "  <tbody>\n",
              "    <tr>\n",
              "      <th>0</th>\n",
              "      <td>\"go to\" please offer a maxi for mature custome...</td>\n",
              "      <td>1</td>\n",
              "    </tr>\n",
              "    <tr>\n",
              "      <th>1</th>\n",
              "      <td>\"go to\" tee for sz 10+ women.Women who want so...</td>\n",
              "      <td>1</td>\n",
              "    </tr>\n",
              "    <tr>\n",
              "      <th>2</th>\n",
              "      <td>\"long and warm\".These leg warmers are perfect ...</td>\n",
              "      <td>1</td>\n",
              "    </tr>\n",
              "    <tr>\n",
              "      <th>3</th>\n",
              "      <td>\"tweed\" dress.I bought this dress for my siste...</td>\n",
              "      <td>1</td>\n",
              "    </tr>\n",
              "    <tr>\n",
              "      <th>4</th>\n",
              "      <td>#1 stunna.I am in lust with this fabulous dres...</td>\n",
              "      <td>1</td>\n",
              "    </tr>\n",
              "    <tr>\n",
              "      <th>...</th>\n",
              "      <td>...</td>\n",
              "      <td>...</td>\n",
              "    </tr>\n",
              "    <tr>\n",
              "      <th>16980</th>\n",
              "      <td>Zipper is weird.I ordered the dress on-line. t...</td>\n",
              "      <td>0</td>\n",
              "    </tr>\n",
              "    <tr>\n",
              "      <th>16981</th>\n",
              "      <td>Zipper?.Like the other reviewers i was disappo...</td>\n",
              "      <td>0</td>\n",
              "    </tr>\n",
              "    <tr>\n",
              "      <th>16982</th>\n",
              "      <td>Zippery-do-dah, zippery-day, my,oh,my sweater....</td>\n",
              "      <td>1</td>\n",
              "    </tr>\n",
              "    <tr>\n",
              "      <th>16983</th>\n",
              "      <td>Zoe slip.When i saw this slip/nighty on-line i...</td>\n",
              "      <td>1</td>\n",
              "    </tr>\n",
              "    <tr>\n",
              "      <th>16984</th>\n",
              "      <td>Zowie!.This skirt is going to be perfect for t...</td>\n",
              "      <td>1</td>\n",
              "    </tr>\n",
              "  </tbody>\n",
              "</table>\n",
              "<p>16985 rows × 2 columns</p>\n",
              "</div>"
            ],
            "text/plain": [
              "                                                  Review  Recommended\n",
              "0      \"go to\" please offer a maxi for mature custome...            1\n",
              "1      \"go to\" tee for sz 10+ women.Women who want so...            1\n",
              "2      \"long and warm\".These leg warmers are perfect ...            1\n",
              "3      \"tweed\" dress.I bought this dress for my siste...            1\n",
              "4      #1 stunna.I am in lust with this fabulous dres...            1\n",
              "...                                                  ...          ...\n",
              "16980  Zipper is weird.I ordered the dress on-line. t...            0\n",
              "16981  Zipper?.Like the other reviewers i was disappo...            0\n",
              "16982  Zippery-do-dah, zippery-day, my,oh,my sweater....            1\n",
              "16983  Zoe slip.When i saw this slip/nighty on-line i...            1\n",
              "16984  Zowie!.This skirt is going to be perfect for t...            1\n",
              "\n",
              "[16985 rows x 2 columns]"
            ]
          },
          "metadata": {
            "tags": []
          },
          "execution_count": 3
        }
      ]
    },
    {
      "cell_type": "code",
      "metadata": {
        "colab": {
          "base_uri": "https://localhost:8080/",
          "height": 417
        },
        "id": "hnEWgCyqezbh",
        "outputId": "c1b2d3ce-597f-4649-eb39-924231ffadd0"
      },
      "source": [
        "test_df"
      ],
      "execution_count": 4,
      "outputs": [
        {
          "output_type": "execute_result",
          "data": {
            "text/html": [
              "<div>\n",
              "<style scoped>\n",
              "    .dataframe tbody tr th:only-of-type {\n",
              "        vertical-align: middle;\n",
              "    }\n",
              "\n",
              "    .dataframe tbody tr th {\n",
              "        vertical-align: top;\n",
              "    }\n",
              "\n",
              "    .dataframe thead th {\n",
              "        text-align: right;\n",
              "    }\n",
              "</style>\n",
              "<table border=\"1\" class=\"dataframe\">\n",
              "  <thead>\n",
              "    <tr style=\"text-align: right;\">\n",
              "      <th></th>\n",
              "      <th>Review</th>\n",
              "      <th>Recommended</th>\n",
              "    </tr>\n",
              "  </thead>\n",
              "  <tbody>\n",
              "    <tr>\n",
              "      <th>0</th>\n",
              "      <td>\"beach business\".Great for the beachy business...</td>\n",
              "      <td>1</td>\n",
              "    </tr>\n",
              "    <tr>\n",
              "      <th>1</th>\n",
              "      <td>\"formal pajamas\".These are super comfy and so ...</td>\n",
              "      <td>1</td>\n",
              "    </tr>\n",
              "    <tr>\n",
              "      <th>2</th>\n",
              "      <td>\"perfect with jeans\".Great with leggings.perfe...</td>\n",
              "      <td>1</td>\n",
              "    </tr>\n",
              "    <tr>\n",
              "      <th>3</th>\n",
              "      <td>\"won't stretch\" tags are misleading.The tag on...</td>\n",
              "      <td>1</td>\n",
              "    </tr>\n",
              "    <tr>\n",
              "      <th>4</th>\n",
              "      <td>$200 piece of polyester.A $200 piece of polyes...</td>\n",
              "      <td>0</td>\n",
              "    </tr>\n",
              "    <tr>\n",
              "      <th>...</th>\n",
              "      <td>...</td>\n",
              "      <td>...</td>\n",
              "    </tr>\n",
              "    <tr>\n",
              "      <th>5652</th>\n",
              "      <td>Your classic plaid blazer w/ patch elbows.I ha...</td>\n",
              "      <td>1</td>\n",
              "    </tr>\n",
              "    <tr>\n",
              "      <th>5653</th>\n",
              "      <td>Yuck.I love jumpsuits - except for this one. t...</td>\n",
              "      <td>0</td>\n",
              "    </tr>\n",
              "    <tr>\n",
              "      <th>5654</th>\n",
              "      <td>Yuck.This looked beautiful online, but the ski...</td>\n",
              "      <td>0</td>\n",
              "    </tr>\n",
              "    <tr>\n",
              "      <th>5655</th>\n",
              "      <td>Zip hoodie not a pullover.This hoodie is reall...</td>\n",
              "      <td>1</td>\n",
              "    </tr>\n",
              "    <tr>\n",
              "      <th>5656</th>\n",
              "      <td>Zipper was broken.I received this in the mail ...</td>\n",
              "      <td>0</td>\n",
              "    </tr>\n",
              "  </tbody>\n",
              "</table>\n",
              "<p>5657 rows × 2 columns</p>\n",
              "</div>"
            ],
            "text/plain": [
              "                                                 Review  Recommended\n",
              "0     \"beach business\".Great for the beachy business...            1\n",
              "1     \"formal pajamas\".These are super comfy and so ...            1\n",
              "2     \"perfect with jeans\".Great with leggings.perfe...            1\n",
              "3     \"won't stretch\" tags are misleading.The tag on...            1\n",
              "4     $200 piece of polyester.A $200 piece of polyes...            0\n",
              "...                                                 ...          ...\n",
              "5652  Your classic plaid blazer w/ patch elbows.I ha...            1\n",
              "5653  Yuck.I love jumpsuits - except for this one. t...            0\n",
              "5654  Yuck.This looked beautiful online, but the ski...            0\n",
              "5655  Zip hoodie not a pullover.This hoodie is reall...            1\n",
              "5656  Zipper was broken.I received this in the mail ...            0\n",
              "\n",
              "[5657 rows x 2 columns]"
            ]
          },
          "metadata": {
            "tags": []
          },
          "execution_count": 4
        }
      ]
    },
    {
      "cell_type": "markdown",
      "metadata": {
        "id": "LS73XfQCSEm0"
      },
      "source": [
        "**Separating the reviews from the recommendation in both train and test dataframes.**"
      ]
    },
    {
      "cell_type": "code",
      "metadata": {
        "colab": {
          "base_uri": "https://localhost:8080/"
        },
        "id": "CnYIdI5BPcig",
        "outputId": "0bc0a9b5-a700-4fd5-f8fb-4cfab8ff4e60"
      },
      "source": [
        "X_train = np.array(train_df['Review'])\n",
        "y_train = np.array(train_df['Recommended'])\n",
        "\n",
        "X_test = np.array(test_df['Review'])\n",
        "y_test = np.array(test_df['Recommended'])\n",
        "\n",
        "X_train.shape\n"
      ],
      "execution_count": 5,
      "outputs": [
        {
          "output_type": "execute_result",
          "data": {
            "text/plain": [
              "(16985,)"
            ]
          },
          "metadata": {
            "tags": []
          },
          "execution_count": 5
        }
      ]
    },
    {
      "cell_type": "code",
      "metadata": {
        "colab": {
          "base_uri": "https://localhost:8080/"
        },
        "id": "aGEx59kCwOKh",
        "outputId": "ad340351-c72b-414d-9497-e8dadfe009fe"
      },
      "source": [
        "y_train.shape"
      ],
      "execution_count": 6,
      "outputs": [
        {
          "output_type": "execute_result",
          "data": {
            "text/plain": [
              "(16985,)"
            ]
          },
          "metadata": {
            "tags": []
          },
          "execution_count": 6
        }
      ]
    },
    {
      "cell_type": "code",
      "metadata": {
        "colab": {
          "base_uri": "https://localhost:8080/"
        },
        "id": "XS7yGssuwOhy",
        "outputId": "1121be88-ecc3-4ad3-fc8f-4604edea5b8e"
      },
      "source": [
        "X_test.shape"
      ],
      "execution_count": 7,
      "outputs": [
        {
          "output_type": "execute_result",
          "data": {
            "text/plain": [
              "(5657,)"
            ]
          },
          "metadata": {
            "tags": []
          },
          "execution_count": 7
        }
      ]
    },
    {
      "cell_type": "code",
      "metadata": {
        "colab": {
          "base_uri": "https://localhost:8080/"
        },
        "id": "KC55Cwl0wOww",
        "outputId": "5e450fc2-d779-4b3e-d499-cb5e65752d77"
      },
      "source": [
        "y_test.shape"
      ],
      "execution_count": 8,
      "outputs": [
        {
          "output_type": "execute_result",
          "data": {
            "text/plain": [
              "(5657,)"
            ]
          },
          "metadata": {
            "tags": []
          },
          "execution_count": 8
        }
      ]
    },
    {
      "cell_type": "markdown",
      "metadata": {
        "id": "WnAWhSMqCg58"
      },
      "source": [
        "*Use cross-validation to evaluate the results. Use a metric that’s appropriate for imbalanced classification (AUC or average precision for example), and inspect all models by visualizing the coefficients.*\n",
        "\n",
        "*To complete part one of the homework do the following:*\n",
        "\n",
        "*Import the text data, vectorize the review column into an X matrix.  Then run at least three models and select a single best model.  Note that you can also create three models that simply use different types of explanatory variables such as a logistic regression with different n grams or different tokenizers.  Be sure to explain your choice and evaluate this model using the test set.*"
      ]
    },
    {
      "cell_type": "markdown",
      "metadata": {
        "id": "eatmIaK8kKmB"
      },
      "source": [
        "###**Logistic Regression with vectorization eliminating common English stop words and any words not in at least 10 documents (reviews).**"
      ]
    },
    {
      "cell_type": "markdown",
      "metadata": {
        "id": "gcMNVGjj8iK9"
      },
      "source": [
        "**Given size of dataset, eliminating potentially irrelevant stop words might be more cost effective.**"
      ]
    },
    {
      "cell_type": "code",
      "metadata": {
        "colab": {
          "base_uri": "https://localhost:8080/"
        },
        "id": "RWvRWZ_CldQF",
        "outputId": "0b2f7aed-e8c0-4417-89d6-b6fb2aff943e"
      },
      "source": [
        "vect1 = CountVectorizer(min_df = 10, stop_words = \"english\").fit(X_train)\n",
        "X1_train = vect1.transform(X_train)\n",
        "X1_test = vect1.transform(X_test)\n",
        "\n",
        "print(\"X with stop words:\\n{}\".format(repr(X1_train)))\n",
        "X1_train.shape"
      ],
      "execution_count": 9,
      "outputs": [
        {
          "output_type": "stream",
          "text": [
            "X with stop words:\n",
            "<16985x2870 sparse matrix of type '<class 'numpy.int64'>'\n",
            "\twith 397299 stored elements in Compressed Sparse Row format>\n"
          ],
          "name": "stdout"
        },
        {
          "output_type": "execute_result",
          "data": {
            "text/plain": [
              "(16985, 2870)"
            ]
          },
          "metadata": {
            "tags": []
          },
          "execution_count": 9
        }
      ]
    },
    {
      "cell_type": "code",
      "metadata": {
        "colab": {
          "base_uri": "https://localhost:8080/"
        },
        "id": "yM45JNQhwgPx",
        "outputId": "c5d16bde-34ce-4a12-b091-df62997f7fea"
      },
      "source": [
        "X1_test.shape"
      ],
      "execution_count": 10,
      "outputs": [
        {
          "output_type": "execute_result",
          "data": {
            "text/plain": [
              "(5657, 2870)"
            ]
          },
          "metadata": {
            "tags": []
          },
          "execution_count": 10
        }
      ]
    },
    {
      "cell_type": "code",
      "metadata": {
        "colab": {
          "base_uri": "https://localhost:8080/"
        },
        "id": "LmbbTI04mUTf",
        "outputId": "dceeebf2-d677-411d-837a-7344e3c29c78"
      },
      "source": [
        "from sklearn.metrics import f1_score, make_scorer\n",
        "\n",
        "f1_scorer = make_scorer(f1_score)\n",
        "\n",
        "param_grid = {'C': [0.001, 0.01, 0.1, 1, 10, 100, 1000]}\n",
        "grid = GridSearchCV(LogisticRegression(), param_grid, cv=5, scoring = f1_scorer)\n",
        "\n",
        "grid.fit(X1_train, y_train)\n",
        "print(\"Best Cross-Val Score : {:.3f}\".format(grid.best_score_))\n",
        "print(\"Best Parameters: {}\".format(grid.best_params_))\n",
        "print(\"Testing CV Score (test): {:.3f}\".format(grid.score(X1_test, y_test)))"
      ],
      "execution_count": 11,
      "outputs": [
        {
          "output_type": "stream",
          "text": [
            "Best Cross-Val Score : 0.937\n",
            "Best Parameters: {'C': 0.1}\n",
            "Testing CV Score (test): 0.937\n"
          ],
          "name": "stdout"
        }
      ]
    },
    {
      "cell_type": "markdown",
      "metadata": {
        "id": "H0TaBJy7zYnb"
      },
      "source": [
        "**Using a premade function to help us visualize our coefficients and which words seem most important.**"
      ]
    },
    {
      "cell_type": "code",
      "metadata": {
        "id": "mt51U4mPzY8t"
      },
      "source": [
        "# helper function to plot top positive and negative coefficients\n",
        "\n",
        "def visualize_coefficients(coefficients, feature_names, n_top_features=25):\n",
        "    \"\"\"Visualize coefficients of a linear model.\n",
        "    Parameters\n",
        "    ----------\n",
        "    coefficients : nd-array, shape (n_features,)\n",
        "        Model coefficients.\n",
        "    feature_names : list or nd-array of strings, shape (n_features,)\n",
        "        Feature names for labeling the coefficients.\n",
        "    n_top_features : int, default=25\n",
        "        How many features to show. The function will show the largest (most\n",
        "        positive) and smallest (most negative)  n_top_features coefficients,\n",
        "        for a total of 2 * n_top_features coefficients.\n",
        "    \"\"\"\n",
        "    coefficients = coefficients.squeeze()\n",
        "    if coefficients.ndim > 1:\n",
        "        # this is not a row or column vector\n",
        "        raise ValueError(\"coeffients must be 1d array or column vector, got\"\n",
        "                         \" shape {}\".format(coefficients.shape))\n",
        "    coefficients = coefficients.ravel()\n",
        "\n",
        "    if len(coefficients) != len(feature_names):\n",
        "        raise ValueError(\"Number of coefficients {} doesn't match number of\"\n",
        "                         \"feature names {}.\".format(len(coefficients),\n",
        "                                                    len(feature_names)))\n",
        "    # get coefficients with large absolute values\n",
        "    coef = coefficients.ravel()\n",
        "    positive_coefficients = np.argsort(coef)[-n_top_features:]\n",
        "    negative_coefficients = np.argsort(coef)[:n_top_features]\n",
        "    interesting_coefficients = np.hstack([negative_coefficients,\n",
        "                                          positive_coefficients])\n",
        "    # plot them\n",
        "    plt.figure(figsize=(15, 5))\n",
        "    colors = ['#ff2020' if c < 0 else '#0000aa'\n",
        "              for c in coef[interesting_coefficients]]\n",
        "    plt.bar(np.arange(2 * n_top_features), coef[interesting_coefficients],\n",
        "            color=colors)\n",
        "    feature_names = np.array(feature_names)\n",
        "    plt.subplots_adjust(bottom=0.3)\n",
        "    plt.xticks(np.arange(1, 1 + 2 * n_top_features),\n",
        "               feature_names[interesting_coefficients], rotation=60,\n",
        "               ha=\"right\")\n",
        "    plt.ylabel(\"Coefficient magnitude\")\n",
        "    plt.xlabel(\"Feature\")\n"
      ],
      "execution_count": 12,
      "outputs": []
    },
    {
      "cell_type": "markdown",
      "metadata": {
        "id": "XWQlK2N38yL6"
      },
      "source": [
        "**Now we visualize**"
      ]
    },
    {
      "cell_type": "code",
      "metadata": {
        "colab": {
          "base_uri": "https://localhost:8080/",
          "height": 0
        },
        "id": "_KQ_szKAzo-x",
        "outputId": "e4f6fe85-4bbe-4dc3-ff3f-db64917fc6a9"
      },
      "source": [
        "coefs1 = LogisticRegression(C = 0.1).fit(X1_train, y_train).coef_\n",
        "feature_names1 = vect1.get_feature_names()\n",
        "\n",
        "visualize_coefficients(coefs1, feature_names1, n_top_features = 40)"
      ],
      "execution_count": 13,
      "outputs": [
        {
          "output_type": "display_data",
          "data": {
            "image/png": "[encoded data removed]",
            "text/plain": [
              "<Figure size 1080x360 with 1 Axes>"
            ]
          },
          "metadata": {
            "tags": [],
            "needs_background": "light"
          }
        }
      ]
    },
    {
      "cell_type": "markdown",
      "metadata": {
        "id": "xlRQ0DaS1PDK"
      },
      "source": [
        "###**Logistic Regression with vectorization including n-grams.**"
      ]
    },
    {
      "cell_type": "markdown",
      "metadata": {
        "id": "oxlJah6y5znK"
      },
      "source": [
        "**Including unigrams, bigrams, and trigrams, along with the restriction that each 'gram' needs to be in at least 10 documents (reviews). Including potentially 4-grams in hopes of catching apostrophy words and to be more robust.**"
      ]
    },
    {
      "cell_type": "code",
      "metadata": {
        "colab": {
          "base_uri": "https://localhost:8080/"
        },
        "id": "kIElc4Kw1PDM",
        "outputId": "f785c77d-da5d-428b-d51e-96149df1ae12"
      },
      "source": [
        "vect2 = CountVectorizer(ngram_range=(1, 4), min_df = 10).fit(X_train)\n",
        "X2_train = vect2.transform(X_train)\n",
        "X2_test = vect2.transform(X_test)\n",
        "\n",
        "print(\"X with uni-, bi-, and tri- grams:\\n{}\".format(repr(X2_train)))\n",
        "X2_train.shape"
      ],
      "execution_count": 14,
      "outputs": [
        {
          "output_type": "stream",
          "text": [
            "X with uni-, bi-, and tri- grams:\n",
            "<16985x27494 sparse matrix of type '<class 'numpy.int64'>'\n",
            "\twith 1641283 stored elements in Compressed Sparse Row format>\n"
          ],
          "name": "stdout"
        },
        {
          "output_type": "execute_result",
          "data": {
            "text/plain": [
              "(16985, 27494)"
            ]
          },
          "metadata": {
            "tags": []
          },
          "execution_count": 14
        }
      ]
    },
    {
      "cell_type": "code",
      "metadata": {
        "colab": {
          "base_uri": "https://localhost:8080/"
        },
        "id": "iQEV-Qn707vf",
        "outputId": "e1ab37f3-0a52-4d6c-e5bb-9588446df1b4"
      },
      "source": [
        "grid.fit(X2_train, y_train)\n",
        "print(\"Best Cross-Val Score : {:.3f}\".format(grid.best_score_))\n",
        "print(\"Best Parameters: {}\".format(grid.best_params_))\n",
        "print(\"Testing CV Score (test): {:.3f}\".format(grid.score(X2_test, y_test)))"
      ],
      "execution_count": 15,
      "outputs": [
        {
          "output_type": "stream",
          "text": [
            "Best Cross-Val Score : 0.943\n",
            "Best Parameters: {'C': 0.1}\n",
            "Testing CV Score (test): 0.946\n"
          ],
          "name": "stdout"
        }
      ]
    },
    {
      "cell_type": "code",
      "metadata": {
        "colab": {
          "base_uri": "https://localhost:8080/",
          "height": 0
        },
        "id": "WWusVqrV5MwS",
        "outputId": "63e233c3-d50c-4cb0-bd66-21dafa99d66a"
      },
      "source": [
        "coefs2 = LogisticRegression(C = 0.1).fit(X2_train, y_train).coef_\n",
        "feature_names2 = vect2.get_feature_names()\n",
        "\n",
        "visualize_coefficients(coefs2, feature_names2, n_top_features = 40)"
      ],
      "execution_count": 16,
      "outputs": [
        {
          "output_type": "display_data",
          "data": {
            "image/png": "[encoded data removed]",
            "text/plain": [
              "<Figure size 1080x360 with 1 Axes>"
            ]
          },
          "metadata": {
            "tags": [],
            "needs_background": "light"
          }
        }
      ]
    },
    {
      "cell_type": "markdown",
      "metadata": {
        "id": "rJMb9WhC6F05"
      },
      "source": [
        "###**Logistic Regression with tf-idf vectorization**"
      ]
    },
    {
      "cell_type": "markdown",
      "metadata": {
        "id": "CcUnUW266F07"
      },
      "source": [
        "**Including unigrams, bigrams, and trigrams, along with the restriction that each 'gram' needs to be in at least 10 documents (reviews).**\n",
        "\n",
        "**Running tf-idf vectorization in case there are certain uncommon words that are strong predictors of recommendation status (0 or 1).**"
      ]
    },
    {
      "cell_type": "code",
      "metadata": {
        "colab": {
          "base_uri": "https://localhost:8080/"
        },
        "id": "bYXg3rS16F08",
        "outputId": "183bd7fd-431b-4e21-de7d-7f3dcef2d511"
      },
      "source": [
        "vect3 = TfidfVectorizer(ngram_range=(1, 4), min_df = 10, norm = None).fit(X_train)\n",
        "X3_train = vect3.transform(X_train)\n",
        "X3_test = vect3.transform(X_test)\n",
        "\n",
        "print(\"X with tf-idf vectorization:\\n{}\".format(repr(X3_train)))\n",
        "X3_train.shape"
      ],
      "execution_count": 17,
      "outputs": [
        {
          "output_type": "stream",
          "text": [
            "X with tf-idf vectorization:\n",
            "<16985x27494 sparse matrix of type '<class 'numpy.float64'>'\n",
            "\twith 1641283 stored elements in Compressed Sparse Row format>\n"
          ],
          "name": "stdout"
        },
        {
          "output_type": "execute_result",
          "data": {
            "text/plain": [
              "(16985, 27494)"
            ]
          },
          "metadata": {
            "tags": []
          },
          "execution_count": 17
        }
      ]
    },
    {
      "cell_type": "code",
      "metadata": {
        "colab": {
          "base_uri": "https://localhost:8080/"
        },
        "id": "ACdh-EC46F0_",
        "outputId": "517ad567-9eae-4f3d-be4d-d7274c4ac43d"
      },
      "source": [
        "grid.fit(X3_train, y_train)\n",
        "print(\"Best Cross-Val Score : {:.3f}\".format(grid.best_score_))\n",
        "print(\"Best Parameters: {}\".format(grid.best_params_))\n",
        "print(\"Testing CV Score (test): {:.3f}\".format(grid.score(X3_test, y_test)))"
      ],
      "execution_count": 18,
      "outputs": [
        {
          "output_type": "stream",
          "text": [
            "Best Cross-Val Score : 0.942\n",
            "Best Parameters: {'C': 0.01}\n",
            "Testing CV Score (test): 0.945\n"
          ],
          "name": "stdout"
        }
      ]
    },
    {
      "cell_type": "code",
      "metadata": {
        "colab": {
          "base_uri": "https://localhost:8080/",
          "height": 0
        },
        "id": "TI0a_4fJ6F1B",
        "outputId": "9a5776ca-739e-42f6-8644-85b6a949c7f0"
      },
      "source": [
        "coefs3 = LogisticRegression(C = 0.01).fit(X3_train, y_train).coef_\n",
        "feature_names3 = vect3.get_feature_names()\n",
        "\n",
        "visualize_coefficients(coefs3, feature_names3, n_top_features = 40)"
      ],
      "execution_count": 19,
      "outputs": [
        {
          "output_type": "display_data",
          "data": {
            "image/png": "[encoded data removed]",
            "text/plain": [
              "<Figure size 1080x360 with 1 Axes>"
            ]
          },
          "metadata": {
            "tags": [],
            "needs_background": "light"
          }
        }
      ]
    },
    {
      "cell_type": "markdown",
      "metadata": {
        "id": "ppc-B9VyBRfx"
      },
      "source": [
        "**All of our L2 penalized logistic regression models with varying parameters and vectorizations yielded extremely similar results. Our model when excluding common English stop words was the lowest scoring of the 3 models in terms of its f1 score. The count vectorizer model and the tf-idf vectorizer models were extremely similar to one another in their f1 scores (both including up to 4-grams). However, the count vectorizer model was slightly a better predictor model so that is the model I'm choosing.**\n",
        "\n",
        "**Words like 'hate', 'cheap', and 'disappointed' are expectedly associated with no positive recommendation (= 0). While words like 'love', 'great', 'unique', and 'comfy, were expectedly associated with a positive review and a recommendation (= 1).**"
      ]
    },
    {
      "cell_type": "markdown",
      "metadata": {
        "id": "0LK-T44EDVCM"
      },
      "source": [
        "##**Part 2**"
      ]
    },
    {
      "cell_type": "markdown",
      "metadata": {
        "id": "8Ea1lFWaDXHD"
      },
      "source": [
        "*To complete part two of the homework do the following:*\n",
        "\n",
        "*Run a multilayer perceptron (feed forward neural network) with two hidden layers on the iris dataset using the keras Sequential interface.*\n",
        "\n",
        "*Data can be imported via the following link:*\n",
        "\n",
        "http://vincentarelbundock.github.io/Rdatasets/csv/datasets/iris.csv\n",
        "\n",
        "*Include code for selecting the number of hidden units using GridSearchCV and evaluation on a test-set.  Describe the differences in the predictive accuracy of models with different numbers of hidden units.  Describe the predictive strength of your best model.  Be sure to explain your choice and evaluate this model using the test set.*"
      ]
    },
    {
      "cell_type": "code",
      "metadata": {
        "colab": {
          "base_uri": "https://localhost:8080/",
          "height": 417
        },
        "id": "YYqlrSbLDhbn",
        "outputId": "110d4c2d-fe43-4ce5-ad48-de47e845fa5d"
      },
      "source": [
        "np.random.seed(2)\n",
        "\n",
        "df = pd.read_csv(\"http://vincentarelbundock.github.io/Rdatasets/csv/datasets/iris.csv\")\n",
        "df = df.iloc[:,1:]\n",
        "\n",
        "df.Species = pd.Categorical(df.Species)\n",
        "df['Spec_code'] = df.Species.cat.codes\n",
        "df"
      ],
      "execution_count": 20,
      "outputs": [
        {
          "output_type": "execute_result",
          "data": {
            "text/html": [
              "<div>\n",
              "<style scoped>\n",
              "    .dataframe tbody tr th:only-of-type {\n",
              "        vertical-align: middle;\n",
              "    }\n",
              "\n",
              "    .dataframe tbody tr th {\n",
              "        vertical-align: top;\n",
              "    }\n",
              "\n",
              "    .dataframe thead th {\n",
              "        text-align: right;\n",
              "    }\n",
              "</style>\n",
              "<table border=\"1\" class=\"dataframe\">\n",
              "  <thead>\n",
              "    <tr style=\"text-align: right;\">\n",
              "      <th></th>\n",
              "      <th>Sepal.Length</th>\n",
              "      <th>Sepal.Width</th>\n",
              "      <th>Petal.Length</th>\n",
              "      <th>Petal.Width</th>\n",
              "      <th>Species</th>\n",
              "      <th>Spec_code</th>\n",
              "    </tr>\n",
              "  </thead>\n",
              "  <tbody>\n",
              "    <tr>\n",
              "      <th>0</th>\n",
              "      <td>5.1</td>\n",
              "      <td>3.5</td>\n",
              "      <td>1.4</td>\n",
              "      <td>0.2</td>\n",
              "      <td>setosa</td>\n",
              "      <td>0</td>\n",
              "    </tr>\n",
              "    <tr>\n",
              "      <th>1</th>\n",
              "      <td>4.9</td>\n",
              "      <td>3.0</td>\n",
              "      <td>1.4</td>\n",
              "      <td>0.2</td>\n",
              "      <td>setosa</td>\n",
              "      <td>0</td>\n",
              "    </tr>\n",
              "    <tr>\n",
              "      <th>2</th>\n",
              "      <td>4.7</td>\n",
              "      <td>3.2</td>\n",
              "      <td>1.3</td>\n",
              "      <td>0.2</td>\n",
              "      <td>setosa</td>\n",
              "      <td>0</td>\n",
              "    </tr>\n",
              "    <tr>\n",
              "      <th>3</th>\n",
              "      <td>4.6</td>\n",
              "      <td>3.1</td>\n",
              "      <td>1.5</td>\n",
              "      <td>0.2</td>\n",
              "      <td>setosa</td>\n",
              "      <td>0</td>\n",
              "    </tr>\n",
              "    <tr>\n",
              "      <th>4</th>\n",
              "      <td>5.0</td>\n",
              "      <td>3.6</td>\n",
              "      <td>1.4</td>\n",
              "      <td>0.2</td>\n",
              "      <td>setosa</td>\n",
              "      <td>0</td>\n",
              "    </tr>\n",
              "    <tr>\n",
              "      <th>...</th>\n",
              "      <td>...</td>\n",
              "      <td>...</td>\n",
              "      <td>...</td>\n",
              "      <td>...</td>\n",
              "      <td>...</td>\n",
              "      <td>...</td>\n",
              "    </tr>\n",
              "    <tr>\n",
              "      <th>145</th>\n",
              "      <td>6.7</td>\n",
              "      <td>3.0</td>\n",
              "      <td>5.2</td>\n",
              "      <td>2.3</td>\n",
              "      <td>virginica</td>\n",
              "      <td>2</td>\n",
              "    </tr>\n",
              "    <tr>\n",
              "      <th>146</th>\n",
              "      <td>6.3</td>\n",
              "      <td>2.5</td>\n",
              "      <td>5.0</td>\n",
              "      <td>1.9</td>\n",
              "      <td>virginica</td>\n",
              "      <td>2</td>\n",
              "    </tr>\n",
              "    <tr>\n",
              "      <th>147</th>\n",
              "      <td>6.5</td>\n",
              "      <td>3.0</td>\n",
              "      <td>5.2</td>\n",
              "      <td>2.0</td>\n",
              "      <td>virginica</td>\n",
              "      <td>2</td>\n",
              "    </tr>\n",
              "    <tr>\n",
              "      <th>148</th>\n",
              "      <td>6.2</td>\n",
              "      <td>3.4</td>\n",
              "      <td>5.4</td>\n",
              "      <td>2.3</td>\n",
              "      <td>virginica</td>\n",
              "      <td>2</td>\n",
              "    </tr>\n",
              "    <tr>\n",
              "      <th>149</th>\n",
              "      <td>5.9</td>\n",
              "      <td>3.0</td>\n",
              "      <td>5.1</td>\n",
              "      <td>1.8</td>\n",
              "      <td>virginica</td>\n",
              "      <td>2</td>\n",
              "    </tr>\n",
              "  </tbody>\n",
              "</table>\n",
              "<p>150 rows × 6 columns</p>\n",
              "</div>"
            ],
            "text/plain": [
              "     Sepal.Length  Sepal.Width  Petal.Length  Petal.Width    Species  Spec_code\n",
              "0             5.1          3.5           1.4          0.2     setosa          0\n",
              "1             4.9          3.0           1.4          0.2     setosa          0\n",
              "2             4.7          3.2           1.3          0.2     setosa          0\n",
              "3             4.6          3.1           1.5          0.2     setosa          0\n",
              "4             5.0          3.6           1.4          0.2     setosa          0\n",
              "..            ...          ...           ...          ...        ...        ...\n",
              "145           6.7          3.0           5.2          2.3  virginica          2\n",
              "146           6.3          2.5           5.0          1.9  virginica          2\n",
              "147           6.5          3.0           5.2          2.0  virginica          2\n",
              "148           6.2          3.4           5.4          2.3  virginica          2\n",
              "149           5.9          3.0           5.1          1.8  virginica          2\n",
              "\n",
              "[150 rows x 6 columns]"
            ]
          },
          "metadata": {
            "tags": []
          },
          "execution_count": 20
        }
      ]
    },
    {
      "cell_type": "code",
      "metadata": {
        "colab": {
          "base_uri": "https://localhost:8080/"
        },
        "id": "HAj11DsyUO-0",
        "outputId": "154a0c21-fabe-4ba6-8806-d80c23a79836"
      },
      "source": [
        "df.dtypes"
      ],
      "execution_count": 21,
      "outputs": [
        {
          "output_type": "execute_result",
          "data": {
            "text/plain": [
              "Sepal.Length     float64\n",
              "Sepal.Width      float64\n",
              "Petal.Length     float64\n",
              "Petal.Width      float64\n",
              "Species         category\n",
              "Spec_code           int8\n",
              "dtype: object"
            ]
          },
          "metadata": {
            "tags": []
          },
          "execution_count": 21
        }
      ]
    },
    {
      "cell_type": "markdown",
      "metadata": {
        "id": "W5Uis2PK9hhu"
      },
      "source": [
        "**Using keras categorization function to do what OneHotEncoder would have essentially done to our 3 category vriable (flower species).**"
      ]
    },
    {
      "cell_type": "code",
      "metadata": {
        "colab": {
          "base_uri": "https://localhost:8080/"
        },
        "id": "VXohABXVYqpr",
        "outputId": "97cde980-9af8-459b-d132-5d3122c9996a"
      },
      "source": [
        "yb = keras.utils.to_categorical(df['Spec_code'])\n",
        "\n",
        "print(yb.shape)\n",
        "yb[:10, :]"
      ],
      "execution_count": 22,
      "outputs": [
        {
          "output_type": "stream",
          "text": [
            "(150, 3)\n"
          ],
          "name": "stdout"
        },
        {
          "output_type": "execute_result",
          "data": {
            "text/plain": [
              "array([[1., 0., 0.],\n",
              "       [1., 0., 0.],\n",
              "       [1., 0., 0.],\n",
              "       [1., 0., 0.],\n",
              "       [1., 0., 0.],\n",
              "       [1., 0., 0.],\n",
              "       [1., 0., 0.],\n",
              "       [1., 0., 0.],\n",
              "       [1., 0., 0.],\n",
              "       [1., 0., 0.]], dtype=float32)"
            ]
          },
          "metadata": {
            "tags": []
          },
          "execution_count": 22
        }
      ]
    },
    {
      "cell_type": "code",
      "metadata": {
        "colab": {
          "base_uri": "https://localhost:8080/",
          "height": 434
        },
        "id": "tf8j9FKXjRDU",
        "outputId": "52c4840a-d11e-4345-f5b4-7cf6745ac9ab"
      },
      "source": [
        "Xb = df.loc[:, df.columns != 'Species']\n",
        "Xb = Xb.loc[:, Xb.columns != 'Spec_code']\n",
        "\n",
        "print(Xb.shape)\n",
        "Xb"
      ],
      "execution_count": 23,
      "outputs": [
        {
          "output_type": "stream",
          "text": [
            "(150, 4)\n"
          ],
          "name": "stdout"
        },
        {
          "output_type": "execute_result",
          "data": {
            "text/html": [
              "<div>\n",
              "<style scoped>\n",
              "    .dataframe tbody tr th:only-of-type {\n",
              "        vertical-align: middle;\n",
              "    }\n",
              "\n",
              "    .dataframe tbody tr th {\n",
              "        vertical-align: top;\n",
              "    }\n",
              "\n",
              "    .dataframe thead th {\n",
              "        text-align: right;\n",
              "    }\n",
              "</style>\n",
              "<table border=\"1\" class=\"dataframe\">\n",
              "  <thead>\n",
              "    <tr style=\"text-align: right;\">\n",
              "      <th></th>\n",
              "      <th>Sepal.Length</th>\n",
              "      <th>Sepal.Width</th>\n",
              "      <th>Petal.Length</th>\n",
              "      <th>Petal.Width</th>\n",
              "    </tr>\n",
              "  </thead>\n",
              "  <tbody>\n",
              "    <tr>\n",
              "      <th>0</th>\n",
              "      <td>5.1</td>\n",
              "      <td>3.5</td>\n",
              "      <td>1.4</td>\n",
              "      <td>0.2</td>\n",
              "    </tr>\n",
              "    <tr>\n",
              "      <th>1</th>\n",
              "      <td>4.9</td>\n",
              "      <td>3.0</td>\n",
              "      <td>1.4</td>\n",
              "      <td>0.2</td>\n",
              "    </tr>\n",
              "    <tr>\n",
              "      <th>2</th>\n",
              "      <td>4.7</td>\n",
              "      <td>3.2</td>\n",
              "      <td>1.3</td>\n",
              "      <td>0.2</td>\n",
              "    </tr>\n",
              "    <tr>\n",
              "      <th>3</th>\n",
              "      <td>4.6</td>\n",
              "      <td>3.1</td>\n",
              "      <td>1.5</td>\n",
              "      <td>0.2</td>\n",
              "    </tr>\n",
              "    <tr>\n",
              "      <th>4</th>\n",
              "      <td>5.0</td>\n",
              "      <td>3.6</td>\n",
              "      <td>1.4</td>\n",
              "      <td>0.2</td>\n",
              "    </tr>\n",
              "    <tr>\n",
              "      <th>...</th>\n",
              "      <td>...</td>\n",
              "      <td>...</td>\n",
              "      <td>...</td>\n",
              "      <td>...</td>\n",
              "    </tr>\n",
              "    <tr>\n",
              "      <th>145</th>\n",
              "      <td>6.7</td>\n",
              "      <td>3.0</td>\n",
              "      <td>5.2</td>\n",
              "      <td>2.3</td>\n",
              "    </tr>\n",
              "    <tr>\n",
              "      <th>146</th>\n",
              "      <td>6.3</td>\n",
              "      <td>2.5</td>\n",
              "      <td>5.0</td>\n",
              "      <td>1.9</td>\n",
              "    </tr>\n",
              "    <tr>\n",
              "      <th>147</th>\n",
              "      <td>6.5</td>\n",
              "      <td>3.0</td>\n",
              "      <td>5.2</td>\n",
              "      <td>2.0</td>\n",
              "    </tr>\n",
              "    <tr>\n",
              "      <th>148</th>\n",
              "      <td>6.2</td>\n",
              "      <td>3.4</td>\n",
              "      <td>5.4</td>\n",
              "      <td>2.3</td>\n",
              "    </tr>\n",
              "    <tr>\n",
              "      <th>149</th>\n",
              "      <td>5.9</td>\n",
              "      <td>3.0</td>\n",
              "      <td>5.1</td>\n",
              "      <td>1.8</td>\n",
              "    </tr>\n",
              "  </tbody>\n",
              "</table>\n",
              "<p>150 rows × 4 columns</p>\n",
              "</div>"
            ],
            "text/plain": [
              "     Sepal.Length  Sepal.Width  Petal.Length  Petal.Width\n",
              "0             5.1          3.5           1.4          0.2\n",
              "1             4.9          3.0           1.4          0.2\n",
              "2             4.7          3.2           1.3          0.2\n",
              "3             4.6          3.1           1.5          0.2\n",
              "4             5.0          3.6           1.4          0.2\n",
              "..            ...          ...           ...          ...\n",
              "145           6.7          3.0           5.2          2.3\n",
              "146           6.3          2.5           5.0          1.9\n",
              "147           6.5          3.0           5.2          2.0\n",
              "148           6.2          3.4           5.4          2.3\n",
              "149           5.9          3.0           5.1          1.8\n",
              "\n",
              "[150 rows x 4 columns]"
            ]
          },
          "metadata": {
            "tags": []
          },
          "execution_count": 23
        }
      ]
    },
    {
      "cell_type": "markdown",
      "metadata": {
        "id": "A4B_xuKG9zX6"
      },
      "source": [
        "**Just applying imputation and standard scaling to our numeric predictor variables (sepal length, sepal width, petal length, and petal width).**"
      ]
    },
    {
      "cell_type": "code",
      "metadata": {
        "id": "frVJRcYsXYFS"
      },
      "source": [
        "# Preprocess data using sklearn's Column Transformer approach\n",
        "\n",
        "# We create the preprocessing pipelines for both numeric and categorical data.\n",
        "numeric_features = ['Sepal.Length', 'Sepal.Width', 'Petal.Length', 'Petal.Width']\n",
        "numeric_transformer = Pipeline(steps=[\n",
        "    ('imputer', SimpleImputer(strategy='median')),\n",
        "    ('scaler', StandardScaler())])\n",
        "\n",
        "preprocess = ColumnTransformer(\n",
        "    transformers=[\n",
        "        ('num', numeric_transformer, numeric_features)])"
      ],
      "execution_count": 24,
      "outputs": []
    },
    {
      "cell_type": "code",
      "metadata": {
        "colab": {
          "base_uri": "https://localhost:8080/"
        },
        "id": "T2OXEhi_Z5I2",
        "outputId": "50766495-0b1c-4151-a490-2b91aaa320e7"
      },
      "source": [
        "preprocess.fit(Xb)\n",
        "\n",
        "X_pro = preprocess.transform(Xb)\n",
        "\n",
        "print(X_pro.shape)"
      ],
      "execution_count": 25,
      "outputs": [
        {
          "output_type": "stream",
          "text": [
            "(150, 4)\n"
          ],
          "name": "stdout"
        }
      ]
    },
    {
      "cell_type": "markdown",
      "metadata": {
        "id": "UFkHgH6w2Hiu"
      },
      "source": [
        "**Train-test split data**"
      ]
    },
    {
      "cell_type": "code",
      "metadata": {
        "id": "47TaZ4c-2HG_"
      },
      "source": [
        "Xp_train, Xp_test, yp_train, yp_test = train_test_split(X_pro, yb)"
      ],
      "execution_count": 26,
      "outputs": []
    },
    {
      "cell_type": "markdown",
      "metadata": {
        "id": "MP5z4CU7-NZb"
      },
      "source": [
        "**We create a Keras Classifier function so we could run it through GridSearchCV to find best value for our parameter 'number of nodes in hidden layer'.**"
      ]
    },
    {
      "cell_type": "code",
      "metadata": {
        "colab": {
          "base_uri": "https://localhost:8080/"
        },
        "id": "W-fr8xD6TloY",
        "outputId": "e6584b05-04ff-4346-95e2-83431f841caf"
      },
      "source": [
        "from numpy.random import seed\n",
        "seed(1)\n",
        "\n",
        "import tensorflow\n",
        "tensorflow.random.set_seed(2)\n",
        "\n",
        "# Creating KerasClassifier function\n",
        "def create_model(hiddennodes=1):\n",
        "  model = Sequential() \n",
        "  model.add(Dense(hiddennodes, activation = 'relu', input_dim = 4)) # Four X features\n",
        "  model.add(Dense(units = 30, activation = 'relu'))\n",
        "  model.add(Dense(units = 3, activation = 'softmax')) # Softmax for more than two categories\n",
        "  # Compile\n",
        "  model.compile(loss='categorical_crossentropy', optimizer = 'sgd', metrics=['accuracy'])\n",
        "  return model\n",
        "\n",
        "model = KerasClassifier(build_fn=create_model, epochs=100, verbose=0)\n",
        "\n",
        "param_grid2 = dict(hiddennodes=[16, 32, 64, 128])\n",
        "grid2 = GridSearchCV(estimator=model, param_grid=param_grid2)\n",
        "\n",
        "grid2.fit(Xp_train, yp_train)\n",
        "print(\"Best Cross-Val Score : {:.3f}\".format(grid2.best_score_))\n",
        "print(\"Best Parameters: {}\".format(grid2.best_params_))\n",
        "print(\"Testing CV Score (test): {:.3f}\".format(grid2.score(Xp_test, yp_test)))"
      ],
      "execution_count": 27,
      "outputs": [
        {
          "output_type": "stream",
          "text": [
            "WARNING:tensorflow:5 out of the last 5 calls to <function Model.make_test_function.<locals>.test_function at 0x7f16b7fef680> triggered tf.function retracing. Tracing is expensive and the excessive number of tracings could be due to (1) creating @tf.function repeatedly in a loop, (2) passing tensors with different shapes, (3) passing Python objects instead of tensors. For (1), please define your @tf.function outside of the loop. For (2), @tf.function has experimental_relax_shapes=True option that relaxes argument shapes that can avoid unnecessary retracing. For (3), please refer to https://www.tensorflow.org/guide/function#controlling_retracing and https://www.tensorflow.org/api_docs/python/tf/function for  more details.\n",
            "WARNING:tensorflow:6 out of the last 6 calls to <function Model.make_test_function.<locals>.test_function at 0x7f16b7f75f80> triggered tf.function retracing. Tracing is expensive and the excessive number of tracings could be due to (1) creating @tf.function repeatedly in a loop, (2) passing tensors with different shapes, (3) passing Python objects instead of tensors. For (1), please define your @tf.function outside of the loop. For (2), @tf.function has experimental_relax_shapes=True option that relaxes argument shapes that can avoid unnecessary retracing. For (3), please refer to https://www.tensorflow.org/guide/function#controlling_retracing and https://www.tensorflow.org/api_docs/python/tf/function for  more details.\n",
            "Best Cross-Val Score : 0.866\n",
            "Best Parameters: {'hiddennodes': 32}\n",
            "Testing CV Score (test): 0.921\n"
          ],
          "name": "stdout"
        }
      ]
    },
    {
      "cell_type": "code",
      "metadata": {
        "colab": {
          "base_uri": "https://localhost:8080/",
          "height": 203
        },
        "id": "qOML_oqEKMd5",
        "outputId": "268ffdb6-dc18-4e53-bc18-cda660bdd53e"
      },
      "source": [
        "res = pd.DataFrame(grid2.cv_results_)\n",
        "res.pivot_table(index=[\"param_hiddennodes\"],\n",
        "values=[\"mean_test_score\"])"
      ],
      "execution_count": 28,
      "outputs": [
        {
          "output_type": "execute_result",
          "data": {
            "text/html": [
              "<div>\n",
              "<style scoped>\n",
              "    .dataframe tbody tr th:only-of-type {\n",
              "        vertical-align: middle;\n",
              "    }\n",
              "\n",
              "    .dataframe tbody tr th {\n",
              "        vertical-align: top;\n",
              "    }\n",
              "\n",
              "    .dataframe thead th {\n",
              "        text-align: right;\n",
              "    }\n",
              "</style>\n",
              "<table border=\"1\" class=\"dataframe\">\n",
              "  <thead>\n",
              "    <tr style=\"text-align: right;\">\n",
              "      <th></th>\n",
              "      <th>mean_test_score</th>\n",
              "    </tr>\n",
              "    <tr>\n",
              "      <th>param_hiddennodes</th>\n",
              "      <th></th>\n",
              "    </tr>\n",
              "  </thead>\n",
              "  <tbody>\n",
              "    <tr>\n",
              "      <th>16</th>\n",
              "      <td>0.839130</td>\n",
              "    </tr>\n",
              "    <tr>\n",
              "      <th>32</th>\n",
              "      <td>0.866008</td>\n",
              "    </tr>\n",
              "    <tr>\n",
              "      <th>64</th>\n",
              "      <td>0.848221</td>\n",
              "    </tr>\n",
              "    <tr>\n",
              "      <th>128</th>\n",
              "      <td>0.848221</td>\n",
              "    </tr>\n",
              "  </tbody>\n",
              "</table>\n",
              "</div>"
            ],
            "text/plain": [
              "                   mean_test_score\n",
              "param_hiddennodes                 \n",
              "16                        0.839130\n",
              "32                        0.866008\n",
              "64                        0.848221\n",
              "128                       0.848221"
            ]
          },
          "metadata": {
            "tags": []
          },
          "execution_count": 28
        }
      ]
    },
    {
      "cell_type": "markdown",
      "metadata": {
        "id": "av6Pqz9AI3Dj"
      },
      "source": [
        "**It seems that the ideal number of 'neurons' in a hidden layer is 32 according to our CV scores. This makes sense as introducing too many neurons per hidden layer may add bias and 'overfit' our model without contributing much to prediction power. Test score on the 32 neuron per layer value was 0.921, indicating pretty strong predictive capabilities using a neural network of not more than 32 neurons per hidden layer (of 2 total hidden layers).**"
      ]
    }
  ]
}